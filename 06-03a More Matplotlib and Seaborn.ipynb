{
 "cells": [
  {
   "cell_type": "markdown",
   "metadata": {},
   "source": [
    "### credit to Jake VanderPlas Python Data Science Handbook"
   ]
  },
  {
   "cell_type": "code",
   "execution_count": null,
   "metadata": {},
   "outputs": [],
   "source": [
    "# standard imports\n",
    "import numpy as np\n",
    "import pandas as pd\n",
    "import matplotlib.pyplot as plt"
   ]
  },
  {
   "cell_type": "code",
   "execution_count": null,
   "metadata": {},
   "outputs": [],
   "source": [
    "# colors\n",
    "x = np.linspace(0, 10, 1000)\n",
    "plt.plot(x, x, color = 'b')\n",
    "plt.plot(x, x+1, color = 'g')\n",
    "plt.plot(x, x+2, color = 'r')\n",
    "plt.show()"
   ]
  },
  {
   "cell_type": "markdown",
   "metadata": {},
   "source": [
    "### List of colors and single character shortcuts\n",
    "\n",
    "|character|color|\n",
    "|---|---|\n",
    "|'b'|blue|\n",
    "|'g'|green|\n",
    "|'r'|red|\n",
    "|'c'|cyan|\n",
    "|'m'|magenta|\n",
    "|'y'|yellow|\n",
    "|'k'|black|\n",
    "|'w'|white|\n",
    "\n",
    "List of Named Colors: <https://matplotlib.org/examples/color/named_colors.html>"
   ]
  },
  {
   "cell_type": "code",
   "execution_count": null,
   "metadata": {},
   "outputs": [],
   "source": [
    "# line style\n",
    "x = np.linspace(0, 10, 1000)\n",
    "plt.plot(x,  x , linestyle = '-')  # solid\n",
    "plt.plot(x, x+1, linestyle = '--') # dashed\n",
    "plt.plot(x, x+2, linestyle = '-.') # dash dot\n",
    "plt.plot(x, x+3, linestyle = ':')  # dotted\n",
    "plt.show()\n",
    "\n",
    "# default behavior uses different colors for multiple lines"
   ]
  },
  {
   "cell_type": "markdown",
   "metadata": {},
   "source": [
    "https://matplotlib.org/examples/lines_bars_and_markers/line_styles_reference.html"
   ]
  },
  {
   "cell_type": "code",
   "execution_count": null,
   "metadata": {},
   "outputs": [],
   "source": [
    "np.random.seed(1)\n",
    "x = np.random.random(100)\n",
    "y = np.random.random(100)\n",
    "plt.figure(figsize = (4,4))  # define the properties of the figure first\n",
    "plt.scatter(x,y)             # then add content\n",
    "plt.axis('equal')            # alter properties\n",
    "plt.title('2-dimensional random uniform values')\n",
    "plt.show()"
   ]
  },
  {
   "cell_type": "markdown",
   "metadata": {},
   "source": [
    "documentation for figure() https://matplotlib.org/api/_as_gen/matplotlib.pyplot.figure.html"
   ]
  },
  {
   "cell_type": "code",
   "execution_count": null,
   "metadata": {},
   "outputs": [],
   "source": [
    "z = 100 * np.random.randint(0,10,100)  # use for size\n",
    "w = np.random.randint(0,5,100) # use for color\n",
    "print(z)\n",
    "print(w)"
   ]
  },
  {
   "cell_type": "code",
   "execution_count": null,
   "metadata": {},
   "outputs": [],
   "source": [
    "colors = np.array(['r','b','g','m','y'])\n",
    "c = colors[w]\n",
    "print(c)"
   ]
  },
  {
   "cell_type": "code",
   "execution_count": null,
   "metadata": {},
   "outputs": [],
   "source": [
    "# we can map the property size (s) to a variable z\n",
    "# we can map the color (c) to a variable c\n",
    "plt.figure(figsize = (8,8))\n",
    "plt.scatter(x, y, s = z, c = c, alpha = 0.4 )  # alpha modifies transparency\n",
    "plt.axis('equal')\n",
    "plt.show()"
   ]
  },
  {
   "cell_type": "code",
   "execution_count": null,
   "metadata": {},
   "outputs": [],
   "source": [
    "# you can change the point markers\n",
    "plt.scatter(x, y, s = z, c = c, marker = \"*\", alpha = 0.3)\n",
    "# But you can't map the markers to a variable\n",
    "plt.show()"
   ]
  },
  {
   "cell_type": "markdown",
   "metadata": {},
   "source": [
    "| character | description           |\n",
    "|:---------:|-----------------------|\n",
    "|    '.'    | point marker          |\n",
    "|    ','    | pixel marker          |\n",
    "|    'o'    | circle marker         |\n",
    "|    'v'    | triangle_down marker  |\n",
    "|    '^'    | triangle_up marker    |\n",
    "|    '<'    | triangle_left marker  |\n",
    "|    '>'    | triangle_right marker |\n",
    "|    '1'    | tri_down marker       |\n",
    "|    '2'    | tri_up marker         |\n",
    "|    '3'    | tri_left marker       |\n",
    "|    '4'    | tri_right marker      |\n",
    "|    's'    | square marker         |\n",
    "|    'p'    | pentagon marker       |\n",
    "|    '*'    | star marker           |\n",
    "|    'h'    | hexagon1 marker       |\n",
    "|    'H'    | hexagon2 marker       |\n",
    "|    '+'    | plus marker           |\n",
    "|    'x'    | x marker              |\n",
    "|    'D'    | diamond marker        |\n",
    "|    'd'    | thin_diamond marker   |"
   ]
  },
  {
   "cell_type": "code",
   "execution_count": null,
   "metadata": {},
   "outputs": [],
   "source": [
    "# You can call 'scatter' multiple times to plot different groups, each with its own label\n",
    "# then call plt.legend() to add a legend with the appropriate labels\n",
    "plt.figure(figsize = (5,5))\n",
    "plt.scatter(x[0:10] , y[0:10] , s = 100, c = 'red' , marker = \"*\", label = 'group A')  \n",
    "plt.scatter(x[11:20], y[11:20], s = 100, c = 'blue', marker = \"o\", label = 'group B')\n",
    "plt.legend()\n",
    "plt.show()"
   ]
  },
  {
   "cell_type": "code",
   "execution_count": null,
   "metadata": {},
   "outputs": [],
   "source": [
    "# Subplots\n",
    "plt.figure(figsize = (9,6))\n",
    "for i in range(1, 7):\n",
    "    plt.subplot(2, 3, i)   # two rows of subplots, three columns of plots, work in plot i\n",
    "    plt.text(0.5, 0.5, 'plot ' + str((2, 3, i)), fontsize = 14, ha='center')  \n",
    "    # plt.text adds text, first two will be the xy position, the character string"
   ]
  },
  {
   "cell_type": "code",
   "execution_count": null,
   "metadata": {},
   "outputs": [],
   "source": [
    "plt.figure(figsize = (10,5))\n",
    "# More Complicated Grids\n",
    "grid = plt.GridSpec(2, 3, wspace=0.4, hspace=0.3)\n",
    "plt.subplot(grid[0, 0]) # gridspec uses 0 based indexing\n",
    "plt.scatter(x[0:10], y[0:10])\n",
    "plt.subplot(grid[0, 1:3])  # top row, columns 1:3\n",
    "plt.hist(x)\n",
    "plt.subplot(grid[1, :2])\n",
    "plt.hist(y)\n",
    "plt.subplot(grid[1, 2])\n",
    "plt.plot(x[0:4], y[0:4], c = 'r')\n",
    "plt.show()"
   ]
  },
  {
   "cell_type": "markdown",
   "metadata": {},
   "source": [
    "subplot documentation: https://matplotlib.org/api/_as_gen/matplotlib.pyplot.subplot.html?highlight=subplot#matplotlib.pyplot.subplot"
   ]
  },
  {
   "cell_type": "code",
   "execution_count": null,
   "metadata": {},
   "outputs": [],
   "source": [
    "# painful way to manually create the following plot.\n",
    "# it's much easier to use seaborn jointplot\n",
    "\n",
    "# Create some normally distributed data\n",
    "mean = [0, 0]\n",
    "cov = [[1, 1],\n",
    "       [1, 2]]\n",
    "x, y = np.random.multivariate_normal(mean, cov, 3000).T\n",
    "\n",
    "# Set up the axes with gridspec\n",
    "fig = plt.figure(figsize=(6, 6))\n",
    "grid = plt.GridSpec(4, 4)   ## 4 x 4 grid\n",
    "main_ax = fig.add_subplot(grid[:-1, 1:]) # vertically, we start at the beginning, and leave one space\n",
    "\n",
    "\n",
    "# horizontally, we start at the second and go to the end\n",
    "y_hist = fig.add_subplot(grid[:-1, 0 ], xticklabels=[], sharey=main_ax) # share y axis with main, no ticks on x\n",
    "x_hist = fig.add_subplot(grid[ -1, 1:], yticklabels=[], sharex=main_ax) # share x axis with main, no ticks on y\n",
    "\n",
    "# scatter points on the main axes\n",
    "main_ax.plot(x, y, 'o', markersize=3, alpha=0.2)\n",
    "\n",
    "# histogram on the attached axes\n",
    "x_hist.hist(x, 40, histtype='stepfilled', orientation='vertical', color='skyblue')\n",
    "x_hist.invert_yaxis()\n",
    "\n",
    "y_hist.hist(y, 40, histtype='stepfilled', orientation='horizontal', color='skyblue')\n",
    "y_hist.invert_xaxis()"
   ]
  },
  {
   "cell_type": "code",
   "execution_count": null,
   "metadata": {},
   "outputs": [],
   "source": [
    "# more histograms\n",
    "\n",
    "data = np.random.randn(1000)\n",
    "\n",
    "plt.hist(data)\n",
    "plt.show()"
   ]
  },
  {
   "cell_type": "code",
   "execution_count": null,
   "metadata": {},
   "outputs": [],
   "source": [
    "# alter bins and color options\n",
    "plt.hist(data, bins=25, alpha=0.5,\n",
    "          color='steelblue', edgecolor='black')\n",
    "plt.show()"
   ]
  },
  {
   "cell_type": "code",
   "execution_count": null,
   "metadata": {},
   "outputs": [],
   "source": [
    "# histtype = stepfilled\n",
    "plt.hist(data, bins=25, alpha=1,\n",
    "         histtype = 'stepfilled', color='steelblue', edgecolor='black')\n",
    "plt.show()"
   ]
  },
  {
   "cell_type": "markdown",
   "metadata": {},
   "source": [
    "hist documentation: https://matplotlib.org/api/_as_gen/matplotlib.pyplot.hist.html?highlight=hist#matplotlib.pyplot.hist"
   ]
  },
  {
   "cell_type": "code",
   "execution_count": null,
   "metadata": {},
   "outputs": [],
   "source": [
    "x1 = np.random.normal(0, 0.8, 10000)\n",
    "x2 = np.random.normal(-2, 1, 10000)\n",
    "x3 = np.random.normal(3, 2, 10000)\n",
    "\n",
    "# set up a dictionary with arguments\n",
    "kwargs = dict(histtype='stepfilled', alpha=0.3, density=True, bins=40, edgecolor = 'black')\n",
    "\n",
    "# use the same arguments for all of the histograms without the need to copy and paste\n",
    "plt.hist(x1, **kwargs, color = 'navy')\n",
    "plt.hist(x2, **kwargs)\n",
    "plt.hist(x3, **kwargs)\n",
    "plt.show()"
   ]
  },
  {
   "cell_type": "code",
   "execution_count": null,
   "metadata": {},
   "outputs": [],
   "source": [
    "# 2d histograms\n",
    "mean = [0, 0]\n",
    "cov = [[1, 1], \n",
    "       [1, 2]]\n",
    "x, y = np.random.multivariate_normal(mean, cov, 10000).T\n",
    "\n",
    "plt.hist2d(x, y, bins=30, cmap='Blues')\n",
    "cb = plt.colorbar()\n",
    "cb.set_label('counts in bin')\n",
    "plt.show()"
   ]
  },
  {
   "cell_type": "code",
   "execution_count": null,
   "metadata": {},
   "outputs": [],
   "source": [
    "plt.hexbin(x, y, gridsize=30, cmap='Blues')\n",
    "cb = plt.colorbar(label='count in bin')"
   ]
  },
  {
   "cell_type": "markdown",
   "metadata": {},
   "source": [
    "# Seaborn"
   ]
  },
  {
   "cell_type": "code",
   "execution_count": null,
   "metadata": {},
   "outputs": [],
   "source": [
    "# import matplotlib.pyplot as plt\n",
    "# import numpy as np\n",
    "# import pandas as pd\n",
    "import seaborn as sns"
   ]
  },
  {
   "cell_type": "markdown",
   "metadata": {},
   "source": [
    "# Seaborn is for visual exploration\n",
    "\n",
    "The primary purpose of seaborn is to make plots and visualize data.\n",
    "\n",
    "You can use seaborn occassionally to fit a model (e.g. linear model or logistic regression model) to your data. But keep in mind that these are simply for visual exploration. You cannot 'extract' the model (e.g. regression coefficients) from Seaborn"
   ]
  },
  {
   "cell_type": "markdown",
   "metadata": {},
   "source": [
    "# Univariate exploration"
   ]
  },
  {
   "cell_type": "code",
   "execution_count": null,
   "metadata": {},
   "outputs": [],
   "source": [
    "sns.set()  # use this set aesthetic parameters, uses the seaborn aesthetic defaults\n",
    "np.random.seed(0)\n",
    "x = np.random.randn(100)\n",
    "ax = sns.distplot(x) # plots both a histogram and kde"
   ]
  },
  {
   "cell_type": "code",
   "execution_count": null,
   "metadata": {},
   "outputs": [],
   "source": [
    "sns.distplot(x, kde=False, bins = 20, rug=True) # to have just the hist without the kde\n",
    "# use bins to specify bins\n",
    "# use rug to add a rug plot"
   ]
  },
  {
   "cell_type": "code",
   "execution_count": null,
   "metadata": {},
   "outputs": [],
   "source": [
    "sns.distplot(x, hist=False, rug=True) # to get rid of histogram and have just kde"
   ]
  },
  {
   "cell_type": "code",
   "execution_count": null,
   "metadata": {},
   "outputs": [],
   "source": [
    "sns.kdeplot(x, bw = 0.2)  # if you want to change the badwidth parameter of the KDE, you must use kdeplot"
   ]
  },
  {
   "cell_type": "markdown",
   "metadata": {},
   "source": [
    "# bivariate and multivariate plots"
   ]
  },
  {
   "cell_type": "code",
   "execution_count": null,
   "metadata": {},
   "outputs": [],
   "source": [
    "mean = [0, 0]\n",
    "cov = [(1, .5), \n",
    "       (.5, 1)]\n",
    "data = np.random.multivariate_normal(mean, cov, 200)\n",
    "df = pd.DataFrame(data, columns=[\"x\", \"y\"])"
   ]
  },
  {
   "cell_type": "code",
   "execution_count": null,
   "metadata": {},
   "outputs": [],
   "source": [
    "print(df.head())"
   ]
  },
  {
   "cell_type": "code",
   "execution_count": null,
   "metadata": {},
   "outputs": [],
   "source": [
    "sns.jointplot(x='x', y='y', data = df)"
   ]
  },
  {
   "cell_type": "code",
   "execution_count": null,
   "metadata": {},
   "outputs": [],
   "source": [
    "sns.jointplot(x=\"x\", y=\"y\", data=df, kind=\"kde\") # for 2D KDE"
   ]
  },
  {
   "cell_type": "markdown",
   "metadata": {},
   "source": [
    "## Pair-wise plots for multiple numeric data variables"
   ]
  },
  {
   "cell_type": "code",
   "execution_count": null,
   "metadata": {},
   "outputs": [],
   "source": [
    "# good ol' iris data\n",
    "iris = sns.load_dataset(\"iris\")\n",
    "sns.pairplot(iris)"
   ]
  },
  {
   "cell_type": "code",
   "execution_count": null,
   "metadata": {},
   "outputs": [],
   "source": [
    "sns.pairplot(iris, hue=\"species\")"
   ]
  },
  {
   "cell_type": "markdown",
   "metadata": {},
   "source": [
    "# Univariate plots separated by category"
   ]
  },
  {
   "cell_type": "code",
   "execution_count": null,
   "metadata": {},
   "outputs": [],
   "source": [
    "tips = sns.load_dataset(\"tips\")\n",
    "print(tips.head())\n",
    "print(tips.info())\n",
    "# tips data, contains numeric vars: total_bill, tip, size\n",
    "# categorical vars: sex, smoker, day, time"
   ]
  },
  {
   "cell_type": "code",
   "execution_count": null,
   "metadata": {},
   "outputs": [],
   "source": [
    "sns.stripplot(x=\"day\", y=\"total_bill\", data=tips, jitter = False)  \n",
    "# like a dotplot, but the dots are plotted on top of each other"
   ]
  },
  {
   "cell_type": "code",
   "execution_count": null,
   "metadata": {},
   "outputs": [],
   "source": [
    "sns.stripplot(x=\"day\", y=\"total_bill\", data=tips, jitter=True) \n",
    "# adding jitter allows us to see where points were overlapping"
   ]
  },
  {
   "cell_type": "code",
   "execution_count": null,
   "metadata": {},
   "outputs": [],
   "source": [
    "sns.swarmplot(x=\"day\", y=\"total_bill\", data=tips)\n",
    "# swarmplots are like symmetric dotplots"
   ]
  },
  {
   "cell_type": "code",
   "execution_count": null,
   "metadata": {},
   "outputs": [],
   "source": [
    "sns.swarmplot(x=\"day\", y=\"total_bill\", hue=\"sex\", data=tips)\n",
    "# you can change the color of the point based on another categorical variable\n",
    "# seaborn automatically adds a legend"
   ]
  },
  {
   "cell_type": "code",
   "execution_count": null,
   "metadata": {},
   "outputs": [],
   "source": [
    "sns.swarmplot(x=\"sex\", y=\"total_bill\", hue=\"day\", data=tips) \n",
    "# this plot is harder on the eyes, but contains the same info as above\n",
    "# the data is separated based on sex and colored based on the day\n",
    "# but the colors aren't helping me"
   ]
  },
  {
   "cell_type": "code",
   "execution_count": null,
   "metadata": {},
   "outputs": [],
   "source": [
    "sns.boxplot(x=\"day\", y=\"total_bill\", data=tips) # boxplots"
   ]
  },
  {
   "cell_type": "code",
   "execution_count": null,
   "metadata": {},
   "outputs": [],
   "source": [
    "sns.boxplot(y=\"day\", x=\"total_bill\", data=tips) # boxplots"
   ]
  },
  {
   "cell_type": "code",
   "execution_count": null,
   "metadata": {},
   "outputs": [],
   "source": [
    "sns.boxplot(x=\"day\", y=\"total_bill\", hue=\"sex\", data=tips) # boxplots"
   ]
  },
  {
   "cell_type": "code",
   "execution_count": null,
   "metadata": {},
   "outputs": [],
   "source": [
    "sns.violinplot(x=\"day\", y=\"total_bill\", hue=\"sex\", data=tips, split=True)\n",
    "# i'm not a huge fan of these plots"
   ]
  },
  {
   "cell_type": "markdown",
   "metadata": {},
   "source": [
    "## facet grids to make several plots"
   ]
  },
  {
   "cell_type": "code",
   "execution_count": null,
   "metadata": {},
   "outputs": [],
   "source": [
    "g = sns.FacetGrid(tips, col=\"sex\", margin_titles=True)  # define the facet grid\n",
    "# the facet grid will subset the data based on the categorical variable you provide it\n",
    "g.map(sns.distplot, \"total_bill\", bins=10)\n",
    "# you then 'map' a plot command (e.g. sns.distplot, or plt.hist) to the facet grid\n",
    "# be sure to pass the appropriate arguments"
   ]
  },
  {
   "cell_type": "code",
   "execution_count": null,
   "metadata": {},
   "outputs": [],
   "source": [
    "g = sns.FacetGrid(tips, row = 'day', margin_titles=True)\n",
    "g.map(plt.hist, \"total_bill\")"
   ]
  },
  {
   "cell_type": "code",
   "execution_count": null,
   "metadata": {},
   "outputs": [],
   "source": [
    "g = sns.FacetGrid(tips, row = 'time', col='sex', margin_titles=True) # you can even have a 2D facet grid\n",
    "g.map(plt.hist, \"total_bill\", density = True, bins=10)"
   ]
  },
  {
   "cell_type": "markdown",
   "metadata": {},
   "source": [
    "# bar charts (count plots) for data that is only categorical"
   ]
  },
  {
   "cell_type": "code",
   "execution_count": null,
   "metadata": {},
   "outputs": [],
   "source": [
    "sns.countplot(x=\"sex\",data=tips) "
   ]
  },
  {
   "cell_type": "code",
   "execution_count": null,
   "metadata": {},
   "outputs": [],
   "source": [
    "sns.countplot(x=\"sex\",hue = 'time', data=tips) "
   ]
  },
  {
   "cell_type": "markdown",
   "metadata": {},
   "source": [
    "# fitting basic statistical models"
   ]
  },
  {
   "cell_type": "code",
   "execution_count": null,
   "metadata": {},
   "outputs": [],
   "source": [
    "sns.lmplot(x=\"total_bill\", y=\"tip\", data=tips)"
   ]
  },
  {
   "cell_type": "code",
   "execution_count": null,
   "metadata": {},
   "outputs": [],
   "source": [
    "sns.lmplot(x=\"total_bill\", y=\"tip\", data=tips, lowess=True)"
   ]
  },
  {
   "cell_type": "code",
   "execution_count": null,
   "metadata": {},
   "outputs": [],
   "source": [
    "sns.residplot(x=\"total_bill\", y=\"tip\", data=tips)"
   ]
  },
  {
   "cell_type": "code",
   "execution_count": null,
   "metadata": {},
   "outputs": [],
   "source": [
    "sns.lmplot(x = \"total_bill\", y = \"tip\", hue = \"smoker\", data=tips)"
   ]
  },
  {
   "cell_type": "code",
   "execution_count": null,
   "metadata": {},
   "outputs": [],
   "source": [
    "g = sns.FacetGrid(tips, col = 'smoker', hue = 'smoker', margin_titles=True)\n",
    "g.map(plt.scatter, 'total_bill', 'tip')"
   ]
  },
  {
   "cell_type": "code",
   "execution_count": null,
   "metadata": {},
   "outputs": [],
   "source": []
  }
 ],
 "metadata": {
  "kernelspec": {
   "display_name": "Python 3",
   "language": "python",
   "name": "python3"
  },
  "language_info": {
   "codemirror_mode": {
    "name": "ipython",
    "version": 3
   },
   "file_extension": ".py",
   "mimetype": "text/x-python",
   "name": "python",
   "nbconvert_exporter": "python",
   "pygments_lexer": "ipython3",
   "version": "3.7.5"
  }
 },
 "nbformat": 4,
 "nbformat_minor": 2
}
