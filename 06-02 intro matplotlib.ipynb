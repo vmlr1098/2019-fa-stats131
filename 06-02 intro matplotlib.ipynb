{
 "cells": [
  {
   "cell_type": "code",
   "execution_count": null,
   "metadata": {},
   "outputs": [],
   "source": [
    "import numpy as np\n",
    "import matplotlib.pyplot as plt"
   ]
  },
  {
   "cell_type": "code",
   "execution_count": null,
   "metadata": {},
   "outputs": [],
   "source": [
    "# let's plot a function like sin(x)\n",
    "x = np.linspace(0, np.pi * 2, 500)"
   ]
  },
  {
   "cell_type": "code",
   "execution_count": null,
   "metadata": {},
   "outputs": [],
   "source": [
    "y = np.sin(x)"
   ]
  },
  {
   "cell_type": "markdown",
   "metadata": {},
   "source": [
    "# Line Plot"
   ]
  },
  {
   "cell_type": "code",
   "execution_count": null,
   "metadata": {},
   "outputs": [],
   "source": [
    "plt.plot(x, y)\n",
    "plt.title(\"sin of x\")\n",
    "plt.xlim(0,2 * np.pi)\n",
    "plt.show()"
   ]
  },
  {
   "cell_type": "code",
   "execution_count": null,
   "metadata": {},
   "outputs": [],
   "source": [
    "x = np.arange(0,5,1)\n",
    "print(x)\n",
    "y = np.random.randint(0,10,5)\n",
    "print(y)\n",
    "plt.plot(x, y)\n",
    "plt.show()"
   ]
  },
  {
   "cell_type": "markdown",
   "metadata": {},
   "source": [
    "# Scatterplot"
   ]
  },
  {
   "cell_type": "code",
   "execution_count": null,
   "metadata": {},
   "outputs": [],
   "source": [
    "plt.scatter(x,y)\n",
    "plt.show()"
   ]
  },
  {
   "cell_type": "markdown",
   "metadata": {},
   "source": [
    "# Histogram"
   ]
  },
  {
   "cell_type": "code",
   "execution_count": null,
   "metadata": {},
   "outputs": [],
   "source": [
    "z = np.random.randn(10000)\n",
    "plt.hist(z, bins = 30)\n",
    "plt.show()"
   ]
  },
  {
   "cell_type": "markdown",
   "metadata": {},
   "source": [
    "# Multiple functions or sequences on the same graph"
   ]
  },
  {
   "cell_type": "code",
   "execution_count": null,
   "metadata": {},
   "outputs": [],
   "source": [
    "x = np.linspace(0, np.pi * 2, 500)\n",
    "y = np.sin(x)\n",
    "z = np.tan(x)\n",
    "w = np.cos(x)"
   ]
  },
  {
   "cell_type": "code",
   "execution_count": null,
   "metadata": {},
   "outputs": [],
   "source": [
    "plt.plot(x, y, 'blue')\n",
    "plt.plot(x, z, 'red')\n",
    "plt.show() # the scale of the two functions make this graph undesirable"
   ]
  },
  {
   "cell_type": "code",
   "execution_count": null,
   "metadata": {},
   "outputs": [],
   "source": [
    "plt.plot(x, y, 'blue')\n",
    "plt.plot(x, w, 'orange')\n",
    "plt.show()"
   ]
  },
  {
   "cell_type": "markdown",
   "metadata": {},
   "source": [
    "# subplots to show different functions"
   ]
  },
  {
   "cell_type": "code",
   "execution_count": null,
   "metadata": {},
   "outputs": [],
   "source": [
    "plt.subplot(2,2,1)  # number pf rows, number of columns, which plot you want to draw\n",
    "plt.plot(x, y)\n",
    "plt.title(\"sin(x)\")\n",
    "\n",
    "plt.subplot(2,2,2) # subplot 2 will be upper right\n",
    "plt.plot(x, w)\n",
    "plt.title(\"cos(x)\")\n",
    "\n",
    "plt.subplot(2,2,3) # subplot 3 will be lower left\n",
    "plt.plot(x, z)\n",
    "plt.title(\"tan(x)\")\n",
    "\n",
    "\n",
    "plt.subplot(2,2,4)\n",
    "plt.plot(x,y, 'red')\n",
    "plt.plot(x,w, 'blue')\n",
    "plt.title(\"sin and cos\")\n",
    "\n",
    "plt.show()"
   ]
  },
  {
   "cell_type": "markdown",
   "metadata": {},
   "source": [
    "# changing labels and axis limits"
   ]
  },
  {
   "cell_type": "code",
   "execution_count": null,
   "metadata": {},
   "outputs": [],
   "source": [
    "plt.plot(x, y)\n",
    "plt.title('sin(x)')\n",
    "plt.xlabel('x')\n",
    "plt.ylabel('f(x)')\n",
    "plt.show()"
   ]
  },
  {
   "cell_type": "code",
   "execution_count": null,
   "metadata": {},
   "outputs": [],
   "source": [
    "plt.plot(x, y)\n",
    "plt.title('sin(x)')\n",
    "plt.xlabel('x')\n",
    "plt.ylabel('f(x)')\n",
    "plt.xlim([0, np.pi/2])\n",
    "plt.axis('equal')  # aspect ratio\n",
    "plt.show()"
   ]
  },
  {
   "cell_type": "code",
   "execution_count": null,
   "metadata": {},
   "outputs": [],
   "source": [
    "plt.scatter(x, y, marker = 'd', color = 'maroon')\n",
    "plt.scatter(x, w, marker = 'H', color = 'darkslategrey')\n",
    "plt.xlim([0, .2])\n",
    "plt.show()"
   ]
  },
  {
   "cell_type": "markdown",
   "metadata": {},
   "source": [
    "## two dimensional functions"
   ]
  },
  {
   "cell_type": "code",
   "execution_count": null,
   "metadata": {},
   "outputs": [],
   "source": [
    "x = np.array([0,1,2])\n",
    "y = np.array([-1,0,1, 2])\n",
    "print(x)\n",
    "print(y)\n",
    "X, Y = np.meshgrid(x,y) # sees x has length 3, y has length 4, so the result is a 4 x 3 grid\n",
    "print(X)\n",
    "# equivalent to repeating x 4 times (because y has length 4)\n",
    "# [0,1,2]\n",
    "# [0,1,2]\n",
    "# [0,1,2]\n",
    "# [0,1,2]\n"
   ]
  },
  {
   "cell_type": "code",
   "execution_count": null,
   "metadata": {},
   "outputs": [],
   "source": [
    "print(Y)\n",
    "# equivalent to taking Y and repeating it 3 times (because x has length 3)\n",
    "# except, it makes y vertical\n",
    "# [-1,0,1, 2]\n",
    "# [-1,0,1, 2]\n",
    "# [-1,0,1, 2]\n",
    "# transposed"
   ]
  },
  {
   "cell_type": "code",
   "execution_count": null,
   "metadata": {},
   "outputs": [],
   "source": [
    "# in R, you could do: outer(x, y, FUN = x * y)\n",
    "\n",
    "def f(x, y):\n",
    "    return x * y\n",
    "\n",
    "X, Y = np.meshgrid(x,y)\n",
    "Z = f(X, Y)\n",
    "print(Z)"
   ]
  },
  {
   "cell_type": "code",
   "execution_count": null,
   "metadata": {},
   "outputs": [],
   "source": [
    "x = np.linspace(-3, 3, 101)\n",
    "y = np.linspace(-3, 3, 101)\n",
    "X, Y = np.meshgrid(x, y)\n",
    "\n",
    "def g (x, y): \n",
    "    return np.exp(-(x**2)) * np.exp(-(y**2))\n",
    "\n",
    "Z = g(X, Y)\n"
   ]
  },
  {
   "cell_type": "code",
   "execution_count": null,
   "metadata": {},
   "outputs": [],
   "source": [
    "Z.shape"
   ]
  },
  {
   "cell_type": "code",
   "execution_count": null,
   "metadata": {},
   "outputs": [],
   "source": [
    "plt.contour(X, Y, Z)\n",
    "plt.axis('equal')\n",
    "plt.show()"
   ]
  },
  {
   "cell_type": "code",
   "execution_count": null,
   "metadata": {},
   "outputs": [],
   "source": [
    "plt.imshow(Z)\n",
    "plt.show()"
   ]
  },
  {
   "cell_type": "code",
   "execution_count": null,
   "metadata": {},
   "outputs": [],
   "source": []
  }
 ],
 "metadata": {
  "kernelspec": {
   "display_name": "Python 3",
   "language": "python",
   "name": "python3"
  },
  "language_info": {
   "codemirror_mode": {
    "name": "ipython",
    "version": 3
   },
   "file_extension": ".py",
   "mimetype": "text/x-python",
   "name": "python",
   "nbconvert_exporter": "python",
   "pygments_lexer": "ipython3",
   "version": "3.7.5"
  }
 },
 "nbformat": 4,
 "nbformat_minor": 2
}
